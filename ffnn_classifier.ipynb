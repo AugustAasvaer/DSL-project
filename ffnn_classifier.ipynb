{
 "cells": [
  {
   "cell_type": "code",
   "execution_count": null,
   "metadata": {},
   "outputs": [],
   "source": [
    "import numpy as np\n",
    "import pandas as pd\n",
    "from sklearn.model_selection import train_test_split\n",
    "from sklearn.ensemble import RandomForestRegressor\n",
    "from sklearn.neural_network import MLPRegressor\n",
    "import helpers.processing_helpers as ph\n",
    "from sklearn.svm import LinearSVR\n",
    "from sklearn.multioutput import MultiOutputRegressor\n",
    "from sklearn.linear_model import LinearRegression"
   ]
  },
  {
   "cell_type": "code",
   "execution_count": null,
   "metadata": {},
   "outputs": [],
   "source": [
    "df_dev = pd.read_csv(\"./development.csv\")"
   ]
  },
  {
   "cell_type": "code",
   "execution_count": null,
   "metadata": {},
   "outputs": [],
   "source": [
    "nan_stats = df_dev.isna().any(axis=0)\n",
    "\n",
    "print(nan_stats.sum()) #  there are no NaN values"
   ]
  },
  {
   "cell_type": "code",
   "execution_count": null,
   "metadata": {},
   "outputs": [],
   "source": [
    "subset = df_dev.sample(df_dev.shape[0])"
   ]
  },
  {
   "cell_type": "code",
   "execution_count": null,
   "metadata": {},
   "outputs": [],
   "source": [
    "y_train_valid = subset[['x', 'y']].copy()\n",
    "\n",
    "X_train_valid = subset.drop(columns=['x', 'y'])"
   ]
  },
  {
   "cell_type": "code",
   "execution_count": null,
   "metadata": {},
   "outputs": [],
   "source": [
    "X_train, X_valid, y_train, y_valid = train_test_split(X_train_valid, y_train_valid, shuffle=True, random_state=42)"
   ]
  },
  {
   "cell_type": "code",
   "execution_count": null,
   "metadata": {},
   "outputs": [],
   "source": [
    "reg = RandomForestRegressor(100, random_state=42)\n",
    "reg.fit(X_train , y_train)"
   ]
  },
  {
   "cell_type": "code",
   "execution_count": null,
   "metadata": {},
   "outputs": [],
   "source": [
    "med_with_noise = ph.mean_euclid_dist(y_valid, reg.predict(X_valid))\n",
    "print(med_with_noise)"
   ]
  },
  {
   "cell_type": "code",
   "execution_count": null,
   "metadata": {},
   "outputs": [],
   "source": [
    "sorted(zip(X_train_valid.columns, reg.feature_importances_), key=lambda x: x[1],reverse=True)"
   ]
  },
  {
   "cell_type": "code",
   "execution_count": null,
   "metadata": {},
   "outputs": [],
   "source": [
    "noise_indexes = [0,7,12,15,16,17]\n",
    "features = [\"pmax\", \"negpmax\", 'area', 'tmax', 'rms']\n",
    "\n",
    "noise_removed = subset.drop(columns=ph.get_column_names(features, noise_indexes))"
   ]
  },
  {
   "cell_type": "code",
   "execution_count": null,
   "metadata": {},
   "outputs": [],
   "source": [
    "y_train_valid = noise_removed[['x', 'y']].copy()\n",
    "\n",
    "X_train_valid = noise_removed.drop(columns=['x', 'y'])\n",
    "\n",
    "X_train, X_valid, y_train, y_valid = train_test_split(X_train_valid, y_train_valid, shuffle=True, random_state=42)\n",
    "\n",
    "X_train[\"RANDOM\"] = np.random.RandomState(42).randn(X_train.shape[0])\n",
    "\n",
    "X_valid[\"RANDOM\"] = np.random.RandomState(42).randn(X_valid.shape[0])\n",
    "\n",
    "reg = RandomForestRegressor(100, random_state=42, verbose=1)\n",
    "reg.fit(X_train , y_train)"
   ]
  },
  {
   "cell_type": "code",
   "execution_count": null,
   "metadata": {},
   "outputs": [],
   "source": [
    "med_without_noise = ph.mean_euclid_dist(y_valid, reg.predict(X_valid))\n",
    "print(med_without_noise)"
   ]
  },
  {
   "cell_type": "code",
   "execution_count": null,
   "metadata": {},
   "outputs": [],
   "source": [
    "sorted(zip(X_train.columns, reg.feature_importances_), key=lambda x: x[1],reverse=True)"
   ]
  },
  {
   "cell_type": "code",
   "execution_count": null,
   "metadata": {},
   "outputs": [],
   "source": [
    "mlp = MLPRegressor(random_state=42, verbose=1, n_iter_no_change=500, max_iter=1500, learning_rate_init=0.0001, activation=\"logistic\")\n",
    "mlp.fit(X_train, y_train)"
   ]
  },
  {
   "cell_type": "code",
   "execution_count": null,
   "metadata": {},
   "outputs": [],
   "source": [
    "mlp_med = ph.mean_euclid_dist(y_valid, mlp.predict(X_valid))\n",
    "print(mlp_med)"
   ]
  },
  {
   "cell_type": "code",
   "execution_count": null,
   "metadata": {},
   "outputs": [],
   "source": [
    "acc_idxs = [1,2,3,4,5,6,8,9,10,11,13,14]\n",
    "\n",
    "tmax_removed = noise_removed.drop(columns=ph.get_column_names(['tmax'], acc_idxs))"
   ]
  },
  {
   "cell_type": "code",
   "execution_count": null,
   "metadata": {},
   "outputs": [],
   "source": [
    "y_train_valid = tmax_removed[['x', 'y']].copy()\n",
    "\n",
    "X_train_valid = tmax_removed.drop(columns=['x', 'y'])\n",
    "\n",
    "X_train, X_valid, y_train, y_valid = train_test_split(X_train_valid, y_train_valid, shuffle=True, random_state=42)\n",
    "\n",
    "X_train[\"RANDOM\"] = np.random.RandomState(42).randn(X_train.shape[0])\n",
    "X_valid[\"RANDOM\"] = np.random.RandomState(42).randn(X_valid.shape[0])\n",
    "\n",
    "# https://forecastegy.com/posts/feature-importance-in-random-forests/#built-in-scikit-learn-method-with-a-random-feature\n",
    "\n",
    "reg = RandomForestRegressor(100, random_state=42)\n",
    "reg.fit(X_train, y_train)"
   ]
  },
  {
   "cell_type": "code",
   "execution_count": null,
   "metadata": {},
   "outputs": [],
   "source": [
    "med_without_noise = ph.mean_euclid_dist(y_valid, reg.predict(X_valid))\n",
    "print(med_without_noise)"
   ]
  },
  {
   "cell_type": "code",
   "execution_count": null,
   "metadata": {},
   "outputs": [],
   "source": [
    "sorted(zip(X_train.columns, reg.feature_importances_), key=lambda x: x[1],reverse=True)"
   ]
  },
  {
   "cell_type": "code",
   "execution_count": null,
   "metadata": {},
   "outputs": [],
   "source": [
    "pmax_negpmax_area = noise_removed.drop(columns=ph.get_column_names(['tmax', 'rms'], acc_idxs))"
   ]
  },
  {
   "cell_type": "code",
   "execution_count": null,
   "metadata": {},
   "outputs": [],
   "source": [
    "y_train_valid = pmax_negpmax_area[['x', 'y']].copy()\n",
    "\n",
    "X_train_valid = pmax_negpmax_area.drop(columns=['x', 'y'])\n",
    "\n",
    "X_train, X_valid, y_train, y_valid = train_test_split(X_train_valid, y_train_valid, shuffle=True, random_state=42)"
   ]
  },
  {
   "cell_type": "code",
   "execution_count": null,
   "metadata": {},
   "outputs": [],
   "source": [
    "reg = RandomForestRegressor(100, random_state=42)\n",
    "reg.fit(X_train , y_train)"
   ]
  },
  {
   "cell_type": "code",
   "execution_count": null,
   "metadata": {},
   "outputs": [],
   "source": [
    "med_without_noise = ph.mean_euclid_dist(y_valid, reg.predict(X_valid))\n",
    "print(med_without_noise)"
   ]
  },
  {
   "cell_type": "code",
   "execution_count": null,
   "metadata": {},
   "outputs": [],
   "source": [
    "sorted(zip(X_train_valid.columns, reg.feature_importances_), key=lambda x: x[1],reverse=True)"
   ]
  },
  {
   "cell_type": "code",
   "execution_count": null,
   "metadata": {},
   "outputs": [],
   "source": [
    "y_train_valid = pmax_negpmax_area[['x', 'y']].copy()\n",
    "\n",
    "area_idx = (1,2,3,4,5,6,8,9,10,11,13,14)\n",
    "X_train_valid = pmax_negpmax_area.drop(columns=['x', 'y']).drop(columns=ph.get_column_names(['area'], area_idx))\n",
    "\n",
    "X_train, X_valid, y_train, y_valid = train_test_split(X_train_valid, y_train_valid, shuffle=True, random_state=42)"
   ]
  },
  {
   "cell_type": "code",
   "execution_count": null,
   "metadata": {},
   "outputs": [],
   "source": [
    "mlp = MLPRegressor(random_state=42, verbose=1, n_iter_no_change=500, max_iter=1500, learning_rate_init=0.0001, activation=\"tanh\")\n",
    "mlp.fit(X_train, y_train)"
   ]
  },
  {
   "cell_type": "code",
   "execution_count": null,
   "metadata": {},
   "outputs": [],
   "source": [
    "mlp_med = ph.mean_euclid_dist(y_valid, mlp.predict(X_valid))\n",
    "print(mlp_med)"
   ]
  },
  {
   "cell_type": "code",
   "execution_count": null,
   "metadata": {},
   "outputs": [],
   "source": []
  }
 ],
 "metadata": {
  "kernelspec": {
   "display_name": "Python 3.10.7 64-bit",
   "language": "python",
   "name": "python3"
  },
  "language_info": {
   "codemirror_mode": {
    "name": "ipython",
    "version": 3
   },
   "file_extension": ".py",
   "mimetype": "text/x-python",
   "name": "python",
   "nbconvert_exporter": "python",
   "pygments_lexer": "ipython3",
   "version": "3.10.7"
  },
  "orig_nbformat": 4,
  "vscode": {
   "interpreter": {
    "hash": "aee8b7b246df8f9039afb4144a1f6fd8d2ca17a180786b69acc140d282b71a49"
   }
  }
 },
 "nbformat": 4,
 "nbformat_minor": 2
}
