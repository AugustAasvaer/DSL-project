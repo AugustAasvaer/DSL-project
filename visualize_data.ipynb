{
 "cells": [
  {
   "cell_type": "code",
   "execution_count": null,
   "metadata": {},
   "outputs": [],
   "source": [
    "import numpy as np\n",
    "import csv\n",
    "import matplotlib.pyplot as plt\n",
    "from operator import itemgetter\n",
    "import cmath\n",
    "import pandas as pd\n",
    "import helpers.processing_helpers as ph\n",
    "from scipy.stats import spearmanr"
   ]
  },
  {
   "cell_type": "code",
   "execution_count": null,
   "metadata": {},
   "outputs": [],
   "source": [
    "file = open(\"development.csv\", \"r\")\n",
    "csvreader = csv.reader(file)"
   ]
  },
  {
   "cell_type": "code",
   "execution_count": null,
   "metadata": {},
   "outputs": [],
   "source": [
    "rows = []\n",
    "for row in csvreader:\n",
    "    rows.append(row)"
   ]
  },
  {
   "cell_type": "code",
   "execution_count": null,
   "metadata": {},
   "outputs": [],
   "source": [
    "TRAINING_DATA_with_header = np.asarray(rows)\n",
    "TRAINING_DATA = TRAINING_DATA_with_header[1:TRAINING_DATA_with_header.size,:]"
   ]
  },
  {
   "cell_type": "code",
   "execution_count": null,
   "metadata": {},
   "outputs": [],
   "source": [
    "x = TRAINING_DATA[:, 0]\n",
    "sensor_num = 0\n",
    "y = TRAINING_DATA[:,1]\n",
    "pmax = TRAINING_DATA[:, 2+5*sensor_num]\n",
    "tmax = TRAINING_DATA[:, 3+5*sensor_num]"
   ]
  },
  {
   "cell_type": "code",
   "execution_count": null,
   "metadata": {},
   "outputs": [],
   "source": [
    "# data = [(float(x[i]), float(pmax[i])) for i in range(len(x))]"
   ]
  },
  {
   "cell_type": "code",
   "execution_count": null,
   "metadata": {},
   "outputs": [],
   "source": [
    "# sorted_by_x = sorted(data, key=itemgetter(1))"
   ]
  },
  {
   "cell_type": "code",
   "execution_count": null,
   "metadata": {},
   "outputs": [],
   "source": [
    "x = [float(x_i) for x_i in x]\n",
    "y = [float(y_i) for y_i in y]\n",
    "pmax = [float(pmax_i) for pmax_i in pmax]\n",
    "tmax = [float(tmax_i) for tmax_i in tmax]"
   ]
  },
  {
   "cell_type": "code",
   "execution_count": null,
   "metadata": {},
   "outputs": [],
   "source": [
    "print(max(pmax))"
   ]
  },
  {
   "cell_type": "code",
   "execution_count": null,
   "metadata": {},
   "outputs": [],
   "source": [
    "plt.scatter(x, y, c=pmax, cmap=\"viridis\", s=2)\n",
    "cbar = plt.colorbar()\n",
    "\n",
    "cbar.set_label(\"Pmax\")\n",
    "plt.show()"
   ]
  },
  {
   "cell_type": "code",
   "execution_count": null,
   "metadata": {},
   "outputs": [],
   "source": [
    "plt.scatter(x, y, c=tmax, cmap=\"viridis\", s=0.1, vmin=-10000, vmax= -8000)\n",
    "cbar = plt.colorbar()\n",
    "cbar.set_label(\"Tmax\")\n",
    "plt.show()"
   ]
  },
  {
   "cell_type": "code",
   "execution_count": null,
   "metadata": {},
   "outputs": [],
   "source": [
    "print(max(tmax))"
   ]
  },
  {
   "cell_type": "code",
   "execution_count": null,
   "metadata": {},
   "outputs": [],
   "source": [
    "coordinates = TRAINING_DATA_with_header[:,0:2]\n",
    "\n",
    "error_sensors = (0,7, 12, 15, 16, 17)\n",
    "correct_sensors = (1, 2, 3, 4, 5, 6, 8, 9, 10, 11, 13, 14)\n",
    "start = 2\n",
    "num_colums = 5\n",
    "for correct_sensor in correct_sensors:\n",
    "    start = 2 + (correct_sensor)*5\n",
    "    coordinates = np.concatenate((coordinates, TRAINING_DATA_with_header[:,start:start+5]), axis=1)\n",
    "\n"
   ]
  },
  {
   "cell_type": "code",
   "execution_count": null,
   "metadata": {},
   "outputs": [],
   "source": [
    "x = TRAINING_DATA[:, 0]\n",
    "sensor_num = 1\n",
    "y = TRAINING_DATA[:,1]\n",
    "pmax = TRAINING_DATA[1:, 2+5*sensor_num]\n",
    "tmax = TRAINING_DATA[1:, 3+5*sensor_num]\n",
    "pmax = [float(pmax_i) for pmax_i in pmax]\n",
    "nmax = [float(tmax_i) for tmax_i in tmax]"
   ]
  },
  {
   "cell_type": "code",
   "execution_count": null,
   "metadata": {},
   "outputs": [],
   "source": [
    "pmax_trimmed = []\n",
    "nmax_trimmed = []\n",
    "threshold = 85\n",
    "for i in range(len(pmax)):\n",
    "    if (nmax[i] <= threshold and nmax[i] >= -threshold and pmax[i] > 10):\n",
    "        pmax_trimmed.append(pmax[i])\n",
    "        nmax_trimmed.append(nmax[i])"
   ]
  },
  {
   "cell_type": "code",
   "execution_count": null,
   "metadata": {},
   "outputs": [],
   "source": [
    "sp, p_value = spearmanr(pmax_trimmed,nmax_trimmed)\n",
    "#sp, p_value = spearmanr(pmax,nmax)"
   ]
  },
  {
   "cell_type": "code",
   "execution_count": null,
   "metadata": {},
   "outputs": [],
   "source": [
    "print(sp)"
   ]
  },
  {
   "cell_type": "code",
   "execution_count": null,
   "metadata": {},
   "outputs": [],
   "source": [
    "plt.scatter(pmax_trimmed, nmax_trimmed, s=2)"
   ]
  },
  {
   "cell_type": "code",
   "execution_count": null,
   "metadata": {},
   "outputs": [],
   "source": [
    "for row in coordinates[1:1000,:]:\n",
    "    changed_row = row\n",
    "    num_sensors = (coordinates.shape[1] - 2) // 2\n",
    "    mpax_shift = 2\n",
    "    nmax_shift = 3\n",
    "    tmax_shift = 4\n",
    "    areal_shift = 5\n",
    "    features = 5\n",
    "    print(num_sensors)\n",
    "    print(changed_row)\n",
    "    print(\"\\n\")\n",
    "    for sensors_num in range(1, num_sensors):\n",
    "        \n",
    "        print(f\"i: {2 + sensor_num*5}\")\n",
    "        if (float(changed_row[2+sensor_num*5]) <= 30):\n",
    "            changed_row[2+sensor_num*5] = '0'\n",
    "            changed_row[3+sensor_num*5] = '0'\n",
    "            changed_row[4+sensor_num*5] = '0'\n",
    "\n",
    "    print(changed_row)\n",
    "    print(\"\\n\")\n",
    "    "
   ]
  },
  {
   "cell_type": "code",
   "execution_count": null,
   "metadata": {},
   "outputs": [],
   "source": [
    "print(print((coordinates.shape[1] - 2) // 5))"
   ]
  },
  {
   "cell_type": "code",
   "execution_count": null,
   "metadata": {},
   "outputs": [],
   "source": []
  }
 ],
 "metadata": {
  "kernelspec": {
   "display_name": "Python 3.10.7 64-bit",
   "language": "python",
   "name": "python3"
  },
  "language_info": {
   "codemirror_mode": {
    "name": "ipython",
    "version": 3
   },
   "file_extension": ".py",
   "mimetype": "text/x-python",
   "name": "python",
   "nbconvert_exporter": "python",
   "pygments_lexer": "ipython3",
   "version": "3.10.7"
  },
  "orig_nbformat": 4,
  "vscode": {
   "interpreter": {
    "hash": "aee8b7b246df8f9039afb4144a1f6fd8d2ca17a180786b69acc140d282b71a49"
   }
  }
 },
 "nbformat": 4,
 "nbformat_minor": 2
}
